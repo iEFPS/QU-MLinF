{
  "nbformat": 4,
  "nbformat_minor": 0,
  "metadata": {
    "kernelspec": {
      "display_name": "Python 3",
      "language": "python",
      "name": "python3"
    },
    "language_info": {
      "codemirror_mode": {
        "name": "ipython",
        "version": 3
      },
      "file_extension": ".py",
      "mimetype": "text/x-python",
      "name": "python",
      "nbconvert_exporter": "python",
      "pygments_lexer": "ipython3",
      "version": "3.7.3"
    },
    "colab": {
      "name": "5.6 AutoML_V3.ipynb",
      "provenance": [],
      "collapsed_sections": [],
      "include_colab_link": true
    }
  },
  "cells": [
    {
      "cell_type": "markdown",
      "metadata": {
        "id": "view-in-github",
        "colab_type": "text"
      },
      "source": [
        "<a href=\"https://colab.research.google.com/github/iEpsilon-FPS/QU-MLinF/blob/master/5.6%20AutoML_V3.ipynb\" target=\"_parent\"><img src=\"https://colab.research.google.com/assets/colab-badge.svg\" alt=\"Open In Colab\"/></a>"
      ]
    },
    {
      "cell_type": "code",
      "metadata": {
        "id": "vz1Ynr-jP6Nn",
        "colab_type": "code",
        "colab": {}
      },
      "source": [
        "# Module: Data Science in Finance, AutoML \n",
        "# Version 1.0\n",
        "# Topic : AutoML - auto-sklearn\n",
        "# Example source: https://www.kaggle.com/wendykan/lending-club-loan-data\n",
        "#####################################################################\n",
        "# For support or questions, contact QuantUniversity at\n",
        "# info@qusandbox.com\n",
        "# Copyright 2020 QuantUniversity LLC.\n",
        "#####################################################################"
      ],
      "execution_count": null,
      "outputs": []
    },
    {
      "cell_type": "markdown",
      "metadata": {
        "id": "G1LN4UsMP6Nr",
        "colab_type": "text"
      },
      "source": [
        "# AutoML with auto-sklearn\n",
        "\n",
        "AutoML is the process of automating an end-to-end Machine Learning pipeline. [auto-sklearn](https://automl.github.io/auto-sklearn/stable/index.html) specifically uses Bayesian optimization, meta-learning and ensemble construction to optimise these pipelines by selecting the best model and its hyperparamters."
      ]
    },
    {
      "cell_type": "markdown",
      "metadata": {
        "id": "sRA-MorAP6Ns",
        "colab_type": "text"
      },
      "source": [
        "This notebook explains the basic workflow involved in an AutoML pipeline with auto-sklearn"
      ]
    },
    {
      "cell_type": "markdown",
      "metadata": {
        "id": "2SdMnSykP6Ns",
        "colab_type": "text"
      },
      "source": [
        "### Imports"
      ]
    },
    {
      "cell_type": "code",
      "metadata": {
        "id": "6Fhe9BpIP_x7",
        "colab_type": "code",
        "colab": {
          "base_uri": "https://localhost:8080/",
          "height": 1000
        },
        "outputId": "ebef6100-3cf5-40d5-bb78-24ea5551b7f7"
      },
      "source": [
        "!sudo apt-get install build-essential swig\n",
        "!curl https://raw.githubusercontent.com/automl/auto-sklearn/master/requirements.txt | xargs -n 1 -L 1 pip install\n",
        "!pip install auto-sklearn"
      ],
      "execution_count": null,
      "outputs": [
        {
          "output_type": "stream",
          "text": [
            "Reading package lists... Done\n",
            "Building dependency tree       \n",
            "Reading state information... Done\n",
            "build-essential is already the newest version (12.4ubuntu1).\n",
            "Suggested packages:\n",
            "  swig-doc swig-examples swig3.0-examples swig3.0-doc\n",
            "The following NEW packages will be installed:\n",
            "  swig swig3.0\n",
            "0 upgraded, 2 newly installed, 0 to remove and 32 not upgraded.\n",
            "Need to get 1,100 kB of archives.\n",
            "After this operation, 5,822 kB of additional disk space will be used.\n",
            "Get:1 http://archive.ubuntu.com/ubuntu bionic/universe amd64 swig3.0 amd64 3.0.12-1 [1,094 kB]\n",
            "Get:2 http://archive.ubuntu.com/ubuntu bionic/universe amd64 swig amd64 3.0.12-1 [6,460 B]\n",
            "Fetched 1,100 kB in 1s (1,179 kB/s)\n",
            "debconf: unable to initialize frontend: Dialog\n",
            "debconf: (No usable dialog-like program is installed, so the dialog based frontend cannot be used. at /usr/share/perl5/Debconf/FrontEnd/Dialog.pm line 76, <> line 2.)\n",
            "debconf: falling back to frontend: Readline\n",
            "debconf: unable to initialize frontend: Readline\n",
            "debconf: (This frontend requires a controlling tty.)\n",
            "debconf: falling back to frontend: Teletype\n",
            "dpkg-preconfigure: unable to re-open stdin: \n",
            "Selecting previously unselected package swig3.0.\n",
            "(Reading database ... 144467 files and directories currently installed.)\n",
            "Preparing to unpack .../swig3.0_3.0.12-1_amd64.deb ...\n",
            "Unpacking swig3.0 (3.0.12-1) ...\n",
            "Selecting previously unselected package swig.\n",
            "Preparing to unpack .../swig_3.0.12-1_amd64.deb ...\n",
            "Unpacking swig (3.0.12-1) ...\n",
            "Setting up swig3.0 (3.0.12-1) ...\n",
            "Setting up swig (3.0.12-1) ...\n",
            "Processing triggers for man-db (2.8.3-2ubuntu0.1) ...\n",
            "  % Total    % Received % Xferd  Average Speed   Time    Time     Time  Current\n",
            "                                 Dload  Upload   Total   Spent    Left  Speed\n",
            "100   201  100   201    0     0   1634      0 --:--:-- --:--:-- --:--:--  1647\n",
            "Requirement already satisfied: setuptools in /usr/local/lib/python3.6/dist-packages (47.1.1)\n",
            "Requirement already satisfied: pytest in /usr/local/lib/python3.6/dist-packages (3.6.4)\n",
            "Requirement already satisfied: more-itertools>=4.0.0 in /usr/local/lib/python3.6/dist-packages (from pytest) (8.3.0)\n",
            "Requirement already satisfied: setuptools in /usr/local/lib/python3.6/dist-packages (from pytest) (47.1.1)\n",
            "Requirement already satisfied: pluggy<0.8,>=0.5 in /usr/local/lib/python3.6/dist-packages (from pytest) (0.7.1)\n",
            "Requirement already satisfied: attrs>=17.4.0 in /usr/local/lib/python3.6/dist-packages (from pytest) (19.3.0)\n",
            "Requirement already satisfied: atomicwrites>=1.0 in /usr/local/lib/python3.6/dist-packages (from pytest) (1.4.0)\n",
            "Requirement already satisfied: six>=1.10.0 in /usr/local/lib/python3.6/dist-packages (from pytest) (1.12.0)\n",
            "Requirement already satisfied: py>=1.5.0 in /usr/local/lib/python3.6/dist-packages (from pytest) (1.8.1)\n",
            "Requirement already satisfied: Cython in /usr/local/lib/python3.6/dist-packages (0.29.19)\n",
            "Requirement already satisfied: numpy>=1.9.0 in /usr/local/lib/python3.6/dist-packages (1.18.4)\n",
            "Requirement already satisfied: scipy>=0.14.1 in /usr/local/lib/python3.6/dist-packages (1.4.1)\n",
            "Requirement already satisfied: numpy>=1.13.3 in /usr/local/lib/python3.6/dist-packages (from scipy>=0.14.1) (1.18.4)\n",
            "Requirement already satisfied: scikit-learn<0.23,>=0.22.0 in /usr/local/lib/python3.6/dist-packages (0.22.2.post1)\n",
            "Requirement already satisfied: numpy>=1.11.0 in /usr/local/lib/python3.6/dist-packages (from scikit-learn<0.23,>=0.22.0) (1.18.4)\n",
            "Requirement already satisfied: joblib>=0.11 in /usr/local/lib/python3.6/dist-packages (from scikit-learn<0.23,>=0.22.0) (0.15.1)\n",
            "Requirement already satisfied: scipy>=0.17.0 in /usr/local/lib/python3.6/dist-packages (from scikit-learn<0.23,>=0.22.0) (1.4.1)\n",
            "Requirement already satisfied: lockfile in /usr/local/lib/python3.6/dist-packages (0.12.2)\n",
            "Requirement already satisfied: joblib in /usr/local/lib/python3.6/dist-packages (0.15.1)\n",
            "Requirement already satisfied: psutil in /usr/local/lib/python3.6/dist-packages (5.4.8)\n",
            "Requirement already satisfied: pyyaml in /usr/local/lib/python3.6/dist-packages (3.13)\n",
            "Requirement already satisfied: liac-arff in /usr/local/lib/python3.6/dist-packages (2.4.0)\n",
            "Requirement already satisfied: pandas<1.0 in /usr/local/lib/python3.6/dist-packages (0.25.3)\n",
            "Requirement already satisfied: python-dateutil>=2.6.1 in /usr/local/lib/python3.6/dist-packages (from pandas<1.0) (2.8.1)\n",
            "Requirement already satisfied: numpy>=1.13.3 in /usr/local/lib/python3.6/dist-packages (from pandas<1.0) (1.18.4)\n",
            "Requirement already satisfied: pytz>=2017.2 in /usr/local/lib/python3.6/dist-packages (from pandas<1.0) (2018.9)\n",
            "Requirement already satisfied: six>=1.5 in /usr/local/lib/python3.6/dist-packages (from python-dateutil>=2.6.1->pandas<1.0) (1.12.0)\n",
            "Requirement already satisfied: ConfigSpace<0.5,>=0.4.0 in /usr/local/lib/python3.6/dist-packages (0.4.13)\n",
            "Requirement already satisfied: numpy in /usr/local/lib/python3.6/dist-packages (from ConfigSpace<0.5,>=0.4.0) (1.18.4)\n",
            "Requirement already satisfied: pyparsing in /usr/local/lib/python3.6/dist-packages (from ConfigSpace<0.5,>=0.4.0) (2.4.7)\n",
            "Requirement already satisfied: cython in /usr/local/lib/python3.6/dist-packages (from ConfigSpace<0.5,>=0.4.0) (0.29.19)\n",
            "Requirement already satisfied: pynisher>=0.4.2 in /usr/local/lib/python3.6/dist-packages (0.5.0)\n",
            "Requirement already satisfied: psutil in /usr/local/lib/python3.6/dist-packages (from pynisher>=0.4.2) (5.4.8)\n",
            "Requirement already satisfied: docutils>=0.3 in /usr/local/lib/python3.6/dist-packages (from pynisher>=0.4.2) (0.15.2)\n",
            "Requirement already satisfied: setuptools in /usr/local/lib/python3.6/dist-packages (from pynisher>=0.4.2) (47.1.1)\n",
            "Collecting pyrfr<0.9,>=0.7\n",
            "  Using cached https://files.pythonhosted.org/packages/ed/0f/4d7e42a9dfef3a1898e03cffa8f1cfcd1f96507d718808b2db584c6f8401/pyrfr-0.8.0.tar.gz\n",
            "Building wheels for collected packages: pyrfr\n",
            "  Building wheel for pyrfr (setup.py) ... \u001b[?25l\u001b[?25hdone\n",
            "  Created wheel for pyrfr: filename=pyrfr-0.8.0-cp36-cp36m-linux_x86_64.whl size=2540823 sha256=7515494ec4f7b0a8eb506b2047e10ac6f8aabfc2b533b815fef3de0ba40a5dc6\n",
            "  Stored in directory: /root/.cache/pip/wheels/61/1a/d2/b5aee388a492a01946143d3c976b2ca810af537480e1f16999\n",
            "Successfully built pyrfr\n",
            "Installing collected packages: pyrfr\n",
            "Successfully installed pyrfr-0.8.0\n",
            "Processing /root/.cache/pip/wheels/37/36/99/2dbeb54a336b7c78f2bb3c1b418086795b7fbe2c4be8da2d9a/smac-0.12.2-cp36-none-any.whl\n",
            "Requirement already satisfied: scikit-learn>=0.22.0 in /usr/local/lib/python3.6/dist-packages (from smac>=0.12) (0.22.2.post1)\n",
            "Requirement already satisfied: joblib in /usr/local/lib/python3.6/dist-packages (from smac>=0.12) (0.15.1)\n",
            "Requirement already satisfied: pynisher>=0.4.1 in /usr/local/lib/python3.6/dist-packages (from smac>=0.12) (0.5.0)\n",
            "Requirement already satisfied: scipy>=0.18.1 in /usr/local/lib/python3.6/dist-packages (from smac>=0.12) (1.4.1)\n",
            "Requirement already satisfied: pyrfr>=0.8.0 in /usr/local/lib/python3.6/dist-packages (from smac>=0.12) (0.8.0)\n",
            "Collecting sobol-seq\n",
            "  Using cached https://files.pythonhosted.org/packages/e4/df/6c4ad25c0b48545a537b631030f7de7e4abb939e6d2964ac2169d4379c85/sobol_seq-0.2.0-py3-none-any.whl\n",
            "Requirement already satisfied: ConfigSpace<0.5,>=0.4.9 in /usr/local/lib/python3.6/dist-packages (from smac>=0.12) (0.4.13)\n",
            "Processing /root/.cache/pip/wheels/a9/b0/b5/8c7e6810aee14bc4ed4a542ce56e744126263bf4f4825a9094/lazy_import-0.2.2-py2.py3-none-any.whl\n",
            "Requirement already satisfied: psutil in /usr/local/lib/python3.6/dist-packages (from smac>=0.12) (5.4.8)\n",
            "Requirement already satisfied: numpy>=1.7.1 in /usr/local/lib/python3.6/dist-packages (from smac>=0.12) (1.18.4)\n",
            "Requirement already satisfied: setuptools in /usr/local/lib/python3.6/dist-packages (from pynisher>=0.4.1->smac>=0.12) (47.1.1)\n",
            "Requirement already satisfied: docutils>=0.3 in /usr/local/lib/python3.6/dist-packages (from pynisher>=0.4.1->smac>=0.12) (0.15.2)\n",
            "Requirement already satisfied: pyparsing in /usr/local/lib/python3.6/dist-packages (from ConfigSpace<0.5,>=0.4.9->smac>=0.12) (2.4.7)\n",
            "Requirement already satisfied: cython in /usr/local/lib/python3.6/dist-packages (from ConfigSpace<0.5,>=0.4.9->smac>=0.12) (0.29.19)\n",
            "Requirement already satisfied: six in /usr/local/lib/python3.6/dist-packages (from lazy-import->smac>=0.12) (1.12.0)\n",
            "Installing collected packages: sobol-seq, lazy-import, smac\n",
            "Successfully installed lazy-import-0.2.2 smac-0.12.2 sobol-seq-0.2.0\n",
            "Processing /root/.cache/pip/wheels/1a/c0/08/61ed267faec8ae3541a6b06d0fd3632549ff769ea2817eba11/auto_sklearn-0.7.0-cp36-cp36m-linux_x86_64.whl\n",
            "Requirement already satisfied: ConfigSpace<0.5,>=0.4.0 in /usr/local/lib/python3.6/dist-packages (from auto-sklearn) (0.4.13)\n",
            "Requirement already satisfied: joblib in /usr/local/lib/python3.6/dist-packages (from auto-sklearn) (0.15.1)\n",
            "Requirement already satisfied: setuptools in /usr/local/lib/python3.6/dist-packages (from auto-sklearn) (47.1.1)\n",
            "Requirement already satisfied: scikit-learn<0.23,>=0.22.0 in /usr/local/lib/python3.6/dist-packages (from auto-sklearn) (0.22.2.post1)\n",
            "Requirement already satisfied: lockfile in /usr/local/lib/python3.6/dist-packages (from auto-sklearn) (0.12.2)\n",
            "Requirement already satisfied: smac>=0.12 in /usr/local/lib/python3.6/dist-packages (from auto-sklearn) (0.12.2)\n",
            "Requirement already satisfied: pytest in /usr/local/lib/python3.6/dist-packages (from auto-sklearn) (3.6.4)\n",
            "Requirement already satisfied: pandas<1.0 in /usr/local/lib/python3.6/dist-packages (from auto-sklearn) (0.25.3)\n",
            "Requirement already satisfied: Cython in /usr/local/lib/python3.6/dist-packages (from auto-sklearn) (0.29.19)\n",
            "Requirement already satisfied: numpy>=1.9.0 in /usr/local/lib/python3.6/dist-packages (from auto-sklearn) (1.18.4)\n",
            "Requirement already satisfied: psutil in /usr/local/lib/python3.6/dist-packages (from auto-sklearn) (5.4.8)\n",
            "Requirement already satisfied: liac-arff in /usr/local/lib/python3.6/dist-packages (from auto-sklearn) (2.4.0)\n",
            "Requirement already satisfied: pynisher>=0.4.2 in /usr/local/lib/python3.6/dist-packages (from auto-sklearn) (0.5.0)\n",
            "Requirement already satisfied: scipy>=0.14.1 in /usr/local/lib/python3.6/dist-packages (from auto-sklearn) (1.4.1)\n",
            "Requirement already satisfied: pyrfr<0.9,>=0.7 in /usr/local/lib/python3.6/dist-packages (from auto-sklearn) (0.8.0)\n",
            "Requirement already satisfied: pyyaml in /usr/local/lib/python3.6/dist-packages (from auto-sklearn) (3.13)\n",
            "Requirement already satisfied: pyparsing in /usr/local/lib/python3.6/dist-packages (from ConfigSpace<0.5,>=0.4.0->auto-sklearn) (2.4.7)\n",
            "Requirement already satisfied: sobol-seq in /usr/local/lib/python3.6/dist-packages (from smac>=0.12->auto-sklearn) (0.2.0)\n",
            "Requirement already satisfied: lazy-import in /usr/local/lib/python3.6/dist-packages (from smac>=0.12->auto-sklearn) (0.2.2)\n",
            "Requirement already satisfied: more-itertools>=4.0.0 in /usr/local/lib/python3.6/dist-packages (from pytest->auto-sklearn) (8.3.0)\n",
            "Requirement already satisfied: atomicwrites>=1.0 in /usr/local/lib/python3.6/dist-packages (from pytest->auto-sklearn) (1.4.0)\n",
            "Requirement already satisfied: pluggy<0.8,>=0.5 in /usr/local/lib/python3.6/dist-packages (from pytest->auto-sklearn) (0.7.1)\n",
            "Requirement already satisfied: py>=1.5.0 in /usr/local/lib/python3.6/dist-packages (from pytest->auto-sklearn) (1.8.1)\n",
            "Requirement already satisfied: attrs>=17.4.0 in /usr/local/lib/python3.6/dist-packages (from pytest->auto-sklearn) (19.3.0)\n",
            "Requirement already satisfied: six>=1.10.0 in /usr/local/lib/python3.6/dist-packages (from pytest->auto-sklearn) (1.12.0)\n",
            "Requirement already satisfied: python-dateutil>=2.6.1 in /usr/local/lib/python3.6/dist-packages (from pandas<1.0->auto-sklearn) (2.8.1)\n",
            "Requirement already satisfied: pytz>=2017.2 in /usr/local/lib/python3.6/dist-packages (from pandas<1.0->auto-sklearn) (2018.9)\n",
            "Requirement already satisfied: docutils>=0.3 in /usr/local/lib/python3.6/dist-packages (from pynisher>=0.4.2->auto-sklearn) (0.15.2)\n",
            "Installing collected packages: auto-sklearn\n",
            "Successfully installed auto-sklearn-0.7.0\n"
          ],
          "name": "stdout"
        }
      ]
    },
    {
      "cell_type": "code",
      "metadata": {
        "id": "0qwxBjaeP6Nt",
        "colab_type": "code",
        "colab": {}
      },
      "source": [
        "# for numerical analysis and data processing\n",
        "import numpy as np\n",
        "import pandas as pd\n",
        "\n",
        "#AutoML\n",
        "import sklearn.metrics\n",
        "import autosklearn.regression\n",
        "\n",
        "import requests\n",
        "from io import StringIO\n",
        "\n",
        "import warnings\n",
        "warnings.filterwarnings('ignore')"
      ],
      "execution_count": null,
      "outputs": []
    },
    {
      "cell_type": "markdown",
      "metadata": {
        "id": "GwNK-JLDP6Nx",
        "colab_type": "text"
      },
      "source": [
        "### Dataset"
      ]
    },
    {
      "cell_type": "markdown",
      "metadata": {
        "id": "Ef6cUyhwP6Nx",
        "colab_type": "text"
      },
      "source": [
        "The data set is the lending data for lendingclub from August 2011 to December 2011 for some borrowers. The feature descriptions for the data are also provided. Not all the features are required for making predictions, some features are redundant in the original data file. The provided data file is already cleaned and only relevant features are provided. There are two types of features, numerical and categorical."
      ]
    },
    {
      "cell_type": "markdown",
      "metadata": {
        "id": "jGA8FPZrP6Ny",
        "colab_type": "text"
      },
      "source": [
        "Reading the input data from csv file."
      ]
    },
    {
      "cell_type": "code",
      "metadata": {
        "id": "zoyAjy2XP6Ny",
        "colab_type": "code",
        "colab": {
          "base_uri": "https://localhost:8080/",
          "height": 119
        },
        "outputId": "69c8decd-aeba-4ab4-e619-3403a34f8bd5"
      },
      "source": [
        "orig_url_data='https://drive.google.com//file//d//1yG-JxC1Br3c8u3cfmKQWC9pgz6Pqggw5//view?usp=sharing'\n",
        "file_id = orig_url_data.split('//')[-2]\n",
        "dwn_url='https://drive.google.com//uc?export=download&id=' + file_id\n",
        "url = requests.get(dwn_url).text\n",
        "csv_raw = StringIO(url)\n",
        "df = pd.read_csv(csv_raw)\n",
        "\n",
        "orig_url_description='https://drive.google.com//file//d//1HFd4gKbknC28rHTWysec48NqfB6g3ZHx//view?usp=sharing'\n",
        "file_id = orig_url_description.split('//')[-2]\n",
        "dwn_url='https://drive.google.com//uc?export=download&id=' + file_id\n",
        "url = requests.get(dwn_url).text\n",
        "csv_raw = StringIO(url)\n",
        "df_description = pd.read_excel(dwn_url)\n",
        "\n",
        "\n",
        "del df['issue_d'] # removing issue date as it wont affect the prediction (redundant feature)\n",
        "\n",
        "print (df_description.head())"
      ],
      "execution_count": null,
      "outputs": [
        {
          "output_type": "stream",
          "text": [
            "               LoanStatNew                                        Description\n",
            "0               addr_state  The state provided by the borrower in the loan...\n",
            "1               annual_inc  The self-reported annual income provided by th...\n",
            "2         annual_inc_joint  The combined self-reported annual income provi...\n",
            "3         application_type  Indicates whether the loan is an individual ap...\n",
            "4  collection_recovery_fee                     post charge off collection fee\n"
          ],
          "name": "stdout"
        }
      ]
    },
    {
      "cell_type": "code",
      "metadata": {
        "id": "BLV7lgAkP6N4",
        "colab_type": "code",
        "colab": {
          "base_uri": "https://localhost:8080/",
          "height": 408
        },
        "outputId": "f65fe223-678c-4059-c866-a803fb7e2c59"
      },
      "source": [
        "df.info()\n",
        "feature_types = ['numerical']+['categorical']+(['numerical']*1)+(['categorical']*4)+['categorical']+(['categorical']*3)+(['numerical']*4)"
      ],
      "execution_count": null,
      "outputs": [
        {
          "output_type": "stream",
          "text": [
            "<class 'pandas.core.frame.DataFrame'>\n",
            "RangeIndex: 9999 entries, 0 to 9998\n",
            "Data columns (total 16 columns):\n",
            " #   Column               Non-Null Count  Dtype  \n",
            "---  ------               --------------  -----  \n",
            " 0   loan_amnt            9999 non-null   int64  \n",
            " 1   term                 9999 non-null   object \n",
            " 2   int_rate             9999 non-null   float64\n",
            " 3   installment          9999 non-null   float64\n",
            " 4   grade                9999 non-null   object \n",
            " 5   sub_grade            9999 non-null   object \n",
            " 6   emp_length           9644 non-null   object \n",
            " 7   home_ownership       9999 non-null   object \n",
            " 8   annual_inc           9999 non-null   float64\n",
            " 9   verification_status  9999 non-null   object \n",
            " 10  purpose              9999 non-null   object \n",
            " 11  addr_state           9999 non-null   object \n",
            " 12  dti                  9999 non-null   float64\n",
            " 13  delinq_2yrs          9999 non-null   int64  \n",
            " 14  inq_last_6mths       9999 non-null   int64  \n",
            " 15  loan_status_Binary   9999 non-null   int64  \n",
            "dtypes: float64(4), int64(4), object(8)\n",
            "memory usage: 1.2+ MB\n"
          ],
          "name": "stdout"
        }
      ]
    },
    {
      "cell_type": "code",
      "metadata": {
        "id": "Ej6Q42wOP6N6",
        "colab_type": "code",
        "colab": {}
      },
      "source": [
        "numeric_columns = df.select_dtypes(include=['float64','int64']).columns\n",
        "categorical_columns = df.select_dtypes(include=['object']).columns"
      ],
      "execution_count": null,
      "outputs": []
    },
    {
      "cell_type": "code",
      "metadata": {
        "id": "cJUMo6tKP6N9",
        "colab_type": "code",
        "colab": {}
      },
      "source": [
        "for col in categorical_columns:\n",
        "    df[col] = df[col].astype('category')"
      ],
      "execution_count": null,
      "outputs": []
    },
    {
      "cell_type": "markdown",
      "metadata": {
        "id": "vpCLvbkgP6OA",
        "colab_type": "text"
      },
      "source": [
        "#### Dictionary for categorical features."
      ]
    },
    {
      "cell_type": "code",
      "metadata": {
        "id": "ZCxp0Dx_P6OB",
        "colab_type": "code",
        "colab": {}
      },
      "source": [
        "categories={}\n",
        "for cat in categorical_columns:\n",
        "    categories[cat] = df[cat].cat.categories.tolist()"
      ],
      "execution_count": null,
      "outputs": []
    },
    {
      "cell_type": "code",
      "metadata": {
        "id": "vpkKKs4GP6OD",
        "colab_type": "code",
        "colab": {}
      },
      "source": [
        "p_categories = df['purpose'].cat.categories.tolist()\n",
        "s_categories = df['addr_state'].cat.categories.tolist()\n",
        "df[categorical_columns] = df[categorical_columns].apply(lambda x: x.cat.codes)"
      ],
      "execution_count": null,
      "outputs": []
    },
    {
      "cell_type": "code",
      "metadata": {
        "id": "CgzJ16lqP6OF",
        "colab_type": "code",
        "colab": {
          "base_uri": "https://localhost:8080/",
          "height": 102
        },
        "outputId": "dd9a6c52-bc3e-4033-e68e-93bf63aeb86a"
      },
      "source": [
        "df.columns"
      ],
      "execution_count": null,
      "outputs": [
        {
          "output_type": "execute_result",
          "data": {
            "text/plain": [
              "Index(['loan_amnt', 'term', 'int_rate', 'installment', 'grade', 'sub_grade',\n",
              "       'emp_length', 'home_ownership', 'annual_inc', 'verification_status',\n",
              "       'purpose', 'addr_state', 'dti', 'delinq_2yrs', 'inq_last_6mths',\n",
              "       'loan_status_Binary'],\n",
              "      dtype='object')"
            ]
          },
          "metadata": {
            "tags": []
          },
          "execution_count": 10
        }
      ]
    },
    {
      "cell_type": "markdown",
      "metadata": {
        "id": "ynagTGuQP6OI",
        "colab_type": "text"
      },
      "source": [
        "Storing interest rate statistics"
      ]
    },
    {
      "cell_type": "code",
      "metadata": {
        "id": "iMQrmUeWP6OJ",
        "colab_type": "code",
        "colab": {
          "base_uri": "https://localhost:8080/",
          "height": 408
        },
        "outputId": "ca1043ed-becf-46b5-f0b5-0c5f77ea55ab"
      },
      "source": [
        "df.info()"
      ],
      "execution_count": null,
      "outputs": [
        {
          "output_type": "stream",
          "text": [
            "<class 'pandas.core.frame.DataFrame'>\n",
            "RangeIndex: 9999 entries, 0 to 9998\n",
            "Data columns (total 16 columns):\n",
            " #   Column               Non-Null Count  Dtype  \n",
            "---  ------               --------------  -----  \n",
            " 0   loan_amnt            9999 non-null   int64  \n",
            " 1   term                 9999 non-null   int8   \n",
            " 2   int_rate             9999 non-null   float64\n",
            " 3   installment          9999 non-null   float64\n",
            " 4   grade                9999 non-null   int8   \n",
            " 5   sub_grade            9999 non-null   int8   \n",
            " 6   emp_length           9999 non-null   int8   \n",
            " 7   home_ownership       9999 non-null   int8   \n",
            " 8   annual_inc           9999 non-null   float64\n",
            " 9   verification_status  9999 non-null   int8   \n",
            " 10  purpose              9999 non-null   int8   \n",
            " 11  addr_state           9999 non-null   int8   \n",
            " 12  dti                  9999 non-null   float64\n",
            " 13  delinq_2yrs          9999 non-null   int64  \n",
            " 14  inq_last_6mths       9999 non-null   int64  \n",
            " 15  loan_status_Binary   9999 non-null   int64  \n",
            "dtypes: float64(4), int64(4), int8(8)\n",
            "memory usage: 703.2 KB\n"
          ],
          "name": "stdout"
        }
      ]
    },
    {
      "cell_type": "code",
      "metadata": {
        "id": "XOJaVwzWP6OL",
        "colab_type": "code",
        "colab": {
          "base_uri": "https://localhost:8080/",
          "height": 34
        },
        "outputId": "40652625-1680-4ab0-ed09-add499b2b5a3"
      },
      "source": [
        "min_rate= df['int_rate'].min()\n",
        "max_rate= df['int_rate'].max()\n",
        "print(min_rate, max_rate, max_rate- min_rate)"
      ],
      "execution_count": null,
      "outputs": [
        {
          "output_type": "stream",
          "text": [
            "5.42 24.11 18.689999999999998\n"
          ],
          "name": "stdout"
        }
      ]
    },
    {
      "cell_type": "code",
      "metadata": {
        "id": "S0B9gtRJP6OO",
        "colab_type": "code",
        "colab": {}
      },
      "source": [
        "df_max = df.max()\n",
        "df_min = df.min()"
      ],
      "execution_count": null,
      "outputs": []
    },
    {
      "cell_type": "markdown",
      "metadata": {
        "id": "xH9lALdlP6OQ",
        "colab_type": "text"
      },
      "source": [
        "## Preparing the dataset "
      ]
    },
    {
      "cell_type": "markdown",
      "metadata": {
        "id": "Vxp78hqEP6OQ",
        "colab_type": "text"
      },
      "source": [
        "The data is split into training and testing data. x represents the input features whereas y represents the output i.e. the interest rate.As a rule of thumb, we split the data into 80% training data and 20% testing or validation data."
      ]
    },
    {
      "cell_type": "code",
      "metadata": {
        "id": "PHTmUHPdP6OR",
        "colab_type": "code",
        "colab": {}
      },
      "source": [
        "y = df.iloc[:,df.columns.isin([\"int_rate\"])]\n",
        "x = df.loc[:, ~df.columns.isin([\"int_rate\"])]\n",
        "\n",
        "total_samples=len(df)\n",
        "split = 0.8\n",
        "\n",
        "x_train = x[0:int(total_samples*split)]\n",
        "x_test = x[int(total_samples*split):total_samples]\n",
        "y_train = y[0:int(total_samples*split)]\n",
        "y_test = y[int(total_samples*split):total_samples]"
      ],
      "execution_count": null,
      "outputs": []
    },
    {
      "cell_type": "markdown",
      "metadata": {
        "id": "k93DViC_P6OT",
        "colab_type": "text"
      },
      "source": [
        "## AutoML"
      ]
    },
    {
      "cell_type": "markdown",
      "metadata": {
        "id": "MOvufImuP6OU",
        "colab_type": "text"
      },
      "source": [
        "### The following is all the code needed to find the best model:"
      ]
    },
    {
      "cell_type": "code",
      "metadata": {
        "scrolled": true,
        "id": "eKlhBbCjP6OU",
        "colab_type": "code",
        "colab": {
          "base_uri": "https://localhost:8080/",
          "height": 314
        },
        "outputId": "e5d0596f-a3a3-45d4-9c5c-82e87b841f0e"
      },
      "source": [
        "automl = autosklearn.regression.AutoSklearnRegressor(\n",
        "    time_left_for_this_task=600, # in seconds\n",
        "    per_run_time_limit=60, # in seconds\n",
        ")\n",
        "automl.fit(x_train, y_train, dataset_name='finance',\n",
        "           feat_type=feature_types)"
      ],
      "execution_count": null,
      "outputs": [
        {
          "output_type": "stream",
          "text": [
            "[WARNING] [2020-06-05 16:17:53,072:AutoMLSMBO(1)::finance] Could not find meta-data directory /usr/local/lib/python3.6/dist-packages/autosklearn/metalearning/files/r2_regression_dense\n"
          ],
          "name": "stdout"
        },
        {
          "output_type": "execute_result",
          "data": {
            "text/plain": [
              "AutoSklearnRegressor(delete_output_folder_after_terminate=True,\n",
              "                     delete_tmp_folder_after_terminate=True,\n",
              "                     disable_evaluator_output=False, ensemble_memory_limit=1024,\n",
              "                     ensemble_nbest=50, ensemble_size=50,\n",
              "                     exclude_estimators=None, exclude_preprocessors=None,\n",
              "                     get_smac_object_callback=None, include_estimators=None,\n",
              "                     include_preprocessors=None,\n",
              "                     initial_configurations_via_metalearning=25,\n",
              "                     logging_config=None, max_models_on_disc=50,\n",
              "                     metadata_directory=None, ml_memory_limit=3072, n_jobs=None,\n",
              "                     output_folder=None, per_run_time_limit=60,\n",
              "                     resampling_strategy='holdout',\n",
              "                     resampling_strategy_arguments=None, seed=1,\n",
              "                     shared_mode=False, smac_scenario_args=None,\n",
              "                     time_left_for_this_task=600, tmp_folder=None)"
            ]
          },
          "metadata": {
            "tags": []
          },
          "execution_count": 22
        }
      ]
    },
    {
      "cell_type": "markdown",
      "metadata": {
        "id": "1LeUraaHP6OX",
        "colab_type": "text"
      },
      "source": [
        "### AutoML training details"
      ]
    },
    {
      "cell_type": "markdown",
      "metadata": {
        "id": "ssulWxIaP6OX",
        "colab_type": "text"
      },
      "source": [
        "#### A list of all the algorithm runs"
      ]
    },
    {
      "cell_type": "code",
      "metadata": {
        "id": "PK7UENV-P6OY",
        "colab_type": "code",
        "colab": {
          "base_uri": "https://localhost:8080/",
          "height": 34
        },
        "outputId": "178cf14f-13ee-4795-86b2-d1b098c0e9f1"
      },
      "source": [
        "automl.show_models()"
      ],
      "execution_count": null,
      "outputs": [
        {
          "output_type": "execute_result",
          "data": {
            "text/plain": [
              "'[(1.000000, MyDummyRegressor(configuration=1, init_params=None, random_state=None)),\\n]'"
            ]
          },
          "metadata": {
            "tags": []
          },
          "execution_count": 23
        }
      ]
    },
    {
      "cell_type": "markdown",
      "metadata": {
        "id": "yzd0IJvNP6Oa",
        "colab_type": "text"
      },
      "source": [
        "#### A summary of all the algorithm runs"
      ]
    },
    {
      "cell_type": "code",
      "metadata": {
        "id": "XW8RmXnoP6Oa",
        "colab_type": "code",
        "colab": {
          "base_uri": "https://localhost:8080/",
          "height": 173
        },
        "outputId": "483552e1-f7fd-4c69-b387-bdc55325022c"
      },
      "source": [
        "print(automl.sprint_statistics())"
      ],
      "execution_count": null,
      "outputs": [
        {
          "output_type": "stream",
          "text": [
            "auto-sklearn results:\n",
            "  Dataset name: finance\n",
            "  Metric: r2\n",
            "  Number of target algorithm runs: 249\n",
            "  Number of successful target algorithm runs: 0\n",
            "  Number of crashed target algorithm runs: 249\n",
            "  Number of target algorithms that exceeded the time limit: 0\n",
            "  Number of target algorithms that exceeded the memory limit: 0\n",
            "\n"
          ],
          "name": "stdout"
        }
      ]
    },
    {
      "cell_type": "markdown",
      "metadata": {
        "id": "0c4Lq0AkP6Od",
        "colab_type": "text"
      },
      "source": [
        "### Using the best pipeline to make predictions"
      ]
    },
    {
      "cell_type": "code",
      "metadata": {
        "id": "dr1T8NCDP6Od",
        "colab_type": "code",
        "colab": {}
      },
      "source": [
        "predictions = automl.predict(x_test)\n",
        "predictions_train = automl.predict(x_train)"
      ],
      "execution_count": null,
      "outputs": []
    },
    {
      "cell_type": "markdown",
      "metadata": {
        "id": "2ohR0it4P6Of",
        "colab_type": "text"
      },
      "source": [
        "#### Best model performance"
      ]
    },
    {
      "cell_type": "code",
      "metadata": {
        "id": "3XeeFkOdP6Og",
        "colab_type": "code",
        "colab": {
          "base_uri": "https://localhost:8080/",
          "height": 51
        },
        "outputId": "86f3b726-4991-44b4-db05-b9b6dd8b5cce"
      },
      "source": [
        "print(\"MAE score:\", sklearn.metrics.mean_absolute_error(y_test, predictions))\n",
        "print(\"R2 score:\", sklearn.metrics.r2_score(y_test, predictions))"
      ],
      "execution_count": null,
      "outputs": [
        {
          "output_type": "stream",
          "text": [
            "MAE score: 3.4178606533432\n",
            "R2 score: -0.015955761015269854\n"
          ],
          "name": "stdout"
        }
      ]
    },
    {
      "cell_type": "markdown",
      "metadata": {
        "id": "UDWOnUXeP6Oi",
        "colab_type": "text"
      },
      "source": [
        "### Export the best model"
      ]
    },
    {
      "cell_type": "code",
      "metadata": {
        "id": "COw1HYe1P6Oj",
        "colab_type": "code",
        "colab": {}
      },
      "source": [
        "import pickle\n",
        "pickle.dump(automl, open('automl.model','wb'))"
      ],
      "execution_count": null,
      "outputs": []
    },
    {
      "cell_type": "markdown",
      "metadata": {
        "id": "x6jm38eBP6Om",
        "colab_type": "text"
      },
      "source": [
        "### MAPE (Mean Absolute Percentage Error)"
      ]
    },
    {
      "cell_type": "code",
      "metadata": {
        "id": "rjc8dItxP6Om",
        "colab_type": "code",
        "colab": {}
      },
      "source": [
        "# from sklearn.utils import check_arrays\n",
        "def mean_absolute_percentage_error(y_true, y_pred): \n",
        "    return np.mean(np.abs((y_true - y_pred) / y_true)) * 100"
      ],
      "execution_count": null,
      "outputs": []
    },
    {
      "cell_type": "code",
      "metadata": {
        "id": "qCc8RCabP6Op",
        "colab_type": "code",
        "colab": {}
      },
      "source": [
        "mape_test = mean_absolute_percentage_error(y_test.values.ravel(), predictions)\n",
        "mape_train = mean_absolute_percentage_error(y_train.values.ravel(), predictions_train)"
      ],
      "execution_count": null,
      "outputs": []
    },
    {
      "cell_type": "code",
      "metadata": {
        "id": "DEA2lch4P6Or",
        "colab_type": "code",
        "colab": {
          "base_uri": "https://localhost:8080/",
          "height": 51
        },
        "outputId": "6f03910b-de58-478b-f762-fdc8387b3898"
      },
      "source": [
        "print(\"Training-set MAPE: \"+str(mape_train))\n",
        "print(\"Test-set MAPE: \"+str(mape_test))"
      ],
      "execution_count": null,
      "outputs": [
        {
          "output_type": "stream",
          "text": [
            "Training-set MAPE: 33.181783322879646\n",
            "Test-set MAPE: 35.220734414426346\n"
          ],
          "name": "stdout"
        }
      ]
    },
    {
      "cell_type": "code",
      "metadata": {
        "id": "pEEs1fVlP6Ou",
        "colab_type": "code",
        "colab": {
          "base_uri": "https://localhost:8080/",
          "height": 34
        },
        "outputId": "83ba9238-1781-4c07-aad9-4dbd7a8572d9"
      },
      "source": [
        "y_test.values[0:5].ravel()"
      ],
      "execution_count": null,
      "outputs": [
        {
          "output_type": "execute_result",
          "data": {
            "text/plain": [
              "array([13.49, 11.49, 13.99, 10.59,  7.49])"
            ]
          },
          "metadata": {
            "tags": []
          },
          "execution_count": 31
        }
      ]
    },
    {
      "cell_type": "code",
      "metadata": {
        "id": "NNsO2_oYP6Ow",
        "colab_type": "code",
        "colab": {
          "base_uri": "https://localhost:8080/",
          "height": 34
        },
        "outputId": "ca318b91-d320-49e1-da33-4abf7cd46fe4"
      },
      "source": [
        "predictions[0:5]"
      ],
      "execution_count": null,
      "outputs": [
        {
          "output_type": "execute_result",
          "data": {
            "text/plain": [
              "array([12.55534267, 12.55534267, 12.55534267, 12.55534267, 12.55534267])"
            ]
          },
          "metadata": {
            "tags": []
          },
          "execution_count": 32
        }
      ]
    }
  ]
}