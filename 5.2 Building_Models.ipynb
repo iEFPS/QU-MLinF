{
  "nbformat": 4,
  "nbformat_minor": 0,
  "metadata": {
    "celltoolbar": "Slideshow",
    "kernelspec": {
      "display_name": "Python 3",
      "language": "python",
      "name": "python3"
    },
    "language_info": {
      "codemirror_mode": {
        "name": "ipython",
        "version": 3
      },
      "file_extension": ".py",
      "mimetype": "text/x-python",
      "name": "python",
      "nbconvert_exporter": "python",
      "pygments_lexer": "ipython3",
      "version": "3.7.3"
    },
    "livereveal": {
      "scroll": true
    },
    "colab": {
      "name": "5.2 Building_Models.ipynb",
      "provenance": [],
      "collapsed_sections": [],
      "toc_visible": true,
      "include_colab_link": true
    }
  },
  "cells": [
    {
      "cell_type": "markdown",
      "metadata": {
        "id": "view-in-github",
        "colab_type": "text"
      },
      "source": [
        "<a href=\"https://colab.research.google.com/github/iEpsilon-FPS/QU-MLinF/blob/master/5.2%20Building_Models.ipynb\" target=\"_parent\"><img src=\"https://colab.research.google.com/assets/colab-badge.svg\" alt=\"Open In Colab\"/></a>"
      ]
    },
    {
      "cell_type": "code",
      "metadata": {
        "id": "KLwdiEkoMQst",
        "colab_type": "code",
        "colab": {}
      },
      "source": [
        "# Module: Data Science in Finance, Machine Learning in 30 minutes!\n",
        "# Version 2.0\n",
        "# Topic : Building models\n",
        "# Example source: https://www.kaggle.com/wendykan/lending-club-loan-data\n",
        "#####################################################################\n",
        "# For support or questions, contact QuantUniversity at\n",
        "# info@qusandbox.com\n",
        "# Copyright 2020 QuantUniversity LLC.\n",
        "#####################################################################"
      ],
      "execution_count": null,
      "outputs": []
    },
    {
      "cell_type": "markdown",
      "metadata": {
        "id": "9kJGoIcUMQsz",
        "colab_type": "text"
      },
      "source": [
        "# Building models"
      ]
    },
    {
      "cell_type": "markdown",
      "metadata": {
        "id": "PjnhvzGxMQsz",
        "colab_type": "text"
      },
      "source": [
        "This notebook deals with understanding the lending data obtained from https://www.kaggle.com/wendykan/lending-club-loan-data. We will cluster the data using K-Means clustering to see patterns in the dataset."
      ]
    },
    {
      "cell_type": "markdown",
      "metadata": {
        "id": "EPxpYuhnMQs0",
        "colab_type": "text"
      },
      "source": [
        "# Contents"
      ]
    },
    {
      "cell_type": "markdown",
      "metadata": {
        "id": "VOklGRT9MQs2",
        "colab_type": "text"
      },
      "source": [
        "* Imports\n",
        "* Exploring the data\n",
        "    * Dataset\n",
        "    * Numerical and Categorical Features\n",
        "* Preparing the data\n",
        "    * Normalizing the data\n",
        "    * Randomizing the data\n",
        "    * Train-Test split\n",
        "* Metrics for Regression\n",
        "    * RMSE\n",
        "    * MAE\n",
        "    * MAPE\n",
        "* Machine Learning Models\n",
        "    * Linear Regression\n",
        "    * Random Forest\n",
        "    * Neural Network Regressor\n",
        "* Comparing model performance\n",
        "* Making predictions\n",
        "* Saving the model\n"
      ]
    },
    {
      "cell_type": "markdown",
      "metadata": {
        "id": "8tBB0tiwMQs2",
        "colab_type": "text"
      },
      "source": [
        "## Imports"
      ]
    },
    {
      "cell_type": "code",
      "metadata": {
        "id": "LnAUxL66MQs3",
        "colab_type": "code",
        "colab": {}
      },
      "source": [
        "# for numerical analysis and data processing\n",
        "import numpy as np\n",
        "import pandas as pd\n",
        "import itertools\n",
        "\n",
        "from IPython.display import Image\n",
        "import warnings\n",
        "warnings.filterwarnings('ignore')\n",
        "\n",
        "# for Machine learning algorithms\n",
        "from sklearn import preprocessing\n",
        "from sklearn.cluster import KMeans\n",
        "from sklearn.manifold import TSNE\n",
        "from sklearn.linear_model import LinearRegression\n",
        "from sklearn.ensemble import RandomForestRegressor\n",
        "from sklearn.neural_network import MLPRegressor\n",
        "from sklearn.metrics import mean_squared_error, mean_absolute_error\n",
        "from scipy.spatial.distance import cdist\n",
        "\n",
        "# for vizualizations\n",
        "%matplotlib inline \n",
        "import matplotlib.pyplot as plt\n",
        "from matplotlib import cm as cm\n",
        "from mpl_toolkits.mplot3d import Axes3D\n",
        "import seaborn as sns\n",
        "\n",
        "import requests\n",
        "from io import StringIO"
      ],
      "execution_count": null,
      "outputs": []
    },
    {
      "cell_type": "markdown",
      "metadata": {
        "id": "d9APSBvyMQs5",
        "colab_type": "text"
      },
      "source": [
        "# Exploring the Data"
      ]
    },
    {
      "cell_type": "markdown",
      "metadata": {
        "id": "w_Pl8IPNMQs6",
        "colab_type": "text"
      },
      "source": [
        "## Dataset"
      ]
    },
    {
      "cell_type": "markdown",
      "metadata": {
        "id": "J0nxGlFNMQs6",
        "colab_type": "text"
      },
      "source": [
        "The data set is the lending data for lendingclub from August 2011 to December 2011 for some borrowers. The feature descriptions for the data are also provided. Not all the features are required for making predictions, some features are redundant in the original data file. The provided data file is already cleaned and only relevant features are provided. There are two types of features, numerical and categorical."
      ]
    },
    {
      "cell_type": "markdown",
      "metadata": {
        "id": "ZolXQQScMQs6",
        "colab_type": "text"
      },
      "source": [
        "Reading the input data from csv file."
      ]
    },
    {
      "cell_type": "code",
      "metadata": {
        "id": "eY4c8nkxMQs7",
        "colab_type": "code",
        "colab": {}
      },
      "source": [
        "orig_url_data='https://drive.google.com//file//d//1yG-JxC1Br3c8u3cfmKQWC9pgz6Pqggw5//view?usp=sharing'\n",
        "file_id = orig_url_data.split('//')[-2]\n",
        "dwn_url='https://drive.google.com//uc?export=download&id=' + file_id\n",
        "url = requests.get(dwn_url).text\n",
        "csv_raw = StringIO(url)\n",
        "df = pd.read_csv(csv_raw)\n",
        "\n",
        "orig_url_description='https://drive.google.com//file//d//1HFd4gKbknC28rHTWysec48NqfB6g3ZHx//view?usp=sharing'\n",
        "file_id = orig_url_description.split('//')[-2]\n",
        "dwn_url='https://drive.google.com//uc?export=download&id=' + file_id\n",
        "url = requests.get(dwn_url).text\n",
        "csv_raw = StringIO(url)\n",
        "df_description = pd.read_excel(dwn_url)\n",
        "\n",
        "\n",
        "del df['issue_d'] # removing issue date as it wont affect the prediction (redundant feature)"
      ],
      "execution_count": null,
      "outputs": []
    },
    {
      "cell_type": "markdown",
      "metadata": {
        "id": "FMBpzqerMQs9",
        "colab_type": "text"
      },
      "source": [
        "## Numerical and Categorical features"
      ]
    },
    {
      "cell_type": "code",
      "metadata": {
        "id": "SaXAJnK9MQs9",
        "colab_type": "code",
        "colab": {}
      },
      "source": [
        "numeric_columns = df.select_dtypes(include=['float64','int64']).columns\n",
        "categorical_columns = df.select_dtypes(include=['object']).columns\n",
        "\n",
        "for col in categorical_columns:\n",
        "    df[col] = df[col].astype('category')"
      ],
      "execution_count": null,
      "outputs": []
    },
    {
      "cell_type": "code",
      "metadata": {
        "id": "7D-LXcKBMQtB",
        "colab_type": "code",
        "colab": {
          "base_uri": "https://localhost:8080/",
          "height": 68
        },
        "outputId": "dc937ad3-cd61-4e30-bcbe-594ad4d5b7ce"
      },
      "source": [
        "numeric_columns"
      ],
      "execution_count": null,
      "outputs": [
        {
          "output_type": "execute_result",
          "data": {
            "text/plain": [
              "Index(['loan_amnt', 'int_rate', 'installment', 'annual_inc', 'dti',\n",
              "       'delinq_2yrs', 'inq_last_6mths', 'loan_status_Binary'],\n",
              "      dtype='object')"
            ]
          },
          "metadata": {
            "tags": []
          },
          "execution_count": 5
        }
      ]
    },
    {
      "cell_type": "code",
      "metadata": {
        "id": "_MadfVvMMQtE",
        "colab_type": "code",
        "colab": {
          "base_uri": "https://localhost:8080/",
          "height": 68
        },
        "outputId": "d6af0141-c3a4-4aeb-9fbc-144c036e8006"
      },
      "source": [
        "categorical_columns"
      ],
      "execution_count": null,
      "outputs": [
        {
          "output_type": "execute_result",
          "data": {
            "text/plain": [
              "Index(['term', 'grade', 'sub_grade', 'emp_length', 'home_ownership',\n",
              "       'verification_status', 'purpose', 'addr_state'],\n",
              "      dtype='object')"
            ]
          },
          "metadata": {
            "tags": []
          },
          "execution_count": 6
        }
      ]
    },
    {
      "cell_type": "code",
      "metadata": {
        "id": "48xROImMMQtG",
        "colab_type": "code",
        "colab": {}
      },
      "source": [
        "p_categories = df['purpose'].cat.categories.tolist()\n",
        "s_categories = df['addr_state'].cat.categories.tolist()\n",
        "df[categorical_columns] = df[categorical_columns].apply(lambda x: x.cat.codes)"
      ],
      "execution_count": null,
      "outputs": []
    },
    {
      "cell_type": "markdown",
      "metadata": {
        "id": "25q-ipiUMQtI",
        "colab_type": "text"
      },
      "source": [
        "Storing interest rate statistics which will be used later for inference. "
      ]
    },
    {
      "cell_type": "code",
      "metadata": {
        "id": "hensnhStMQtJ",
        "colab_type": "code",
        "colab": {
          "base_uri": "https://localhost:8080/",
          "height": 34
        },
        "outputId": "5385c632-927a-4cbe-97b4-f6c900b9e180"
      },
      "source": [
        "min_rate= df['int_rate'].min()\n",
        "max_rate= df['int_rate'].max()\n",
        "print(min_rate, max_rate, max_rate- min_rate)"
      ],
      "execution_count": null,
      "outputs": [
        {
          "output_type": "stream",
          "text": [
            "5.42 24.11 18.689999999999998\n"
          ],
          "name": "stdout"
        }
      ]
    },
    {
      "cell_type": "markdown",
      "metadata": {
        "id": "bqga1FzwMQtL",
        "colab_type": "text"
      },
      "source": [
        "# Preparing the dataset "
      ]
    },
    {
      "cell_type": "markdown",
      "metadata": {
        "id": "5XLhW4p6MQtL",
        "colab_type": "text"
      },
      "source": [
        "#### Normalizing the data\n",
        "Normalize the data set for ease of calculations so that all features have values between 0 and 1."
      ]
    },
    {
      "cell_type": "code",
      "metadata": {
        "id": "53UW_9VNMQtL",
        "colab_type": "code",
        "colab": {}
      },
      "source": [
        "df=(df-df.min())/(df.max()-df.min())"
      ],
      "execution_count": null,
      "outputs": []
    },
    {
      "cell_type": "markdown",
      "metadata": {
        "id": "7Q6RJnULMQtR",
        "colab_type": "text"
      },
      "source": [
        "#### Randomizing the data\n",
        "Randomize the dataset so that any ordered patterns dont influence the prediction. (We have already skipped date as an influencing factor)"
      ]
    },
    {
      "cell_type": "code",
      "metadata": {
        "id": "u2_yn9eaMQtS",
        "colab_type": "code",
        "colab": {}
      },
      "source": [
        "df = df.iloc[np.random.permutation(len(df))]"
      ],
      "execution_count": null,
      "outputs": []
    },
    {
      "cell_type": "markdown",
      "metadata": {
        "id": "xgfUAirgMQtV",
        "colab_type": "text"
      },
      "source": [
        "#### Train-test split\n",
        "The data is split into training and testing data. x represents the input features whereas y represents the output i.e. the interest rate.As a rule of thumb, we split the data into 80% training data and 20% testing or validation data."
      ]
    },
    {
      "cell_type": "code",
      "metadata": {
        "id": "yt464jFnMQtV",
        "colab_type": "code",
        "colab": {}
      },
      "source": [
        "y = df.iloc[:,df.columns.isin([\"int_rate\"])]\n",
        "x = df.loc[:, ~df.columns.isin([\"int_rate\"])]\n",
        "\n",
        "total_samples=len(df)\n",
        "split = 0.8\n",
        "\n",
        "x_train = x[0:int(total_samples*split)]\n",
        "x_test = x[int(total_samples*split):total_samples]\n",
        "y_train = y[0:int(total_samples*split)]\n",
        "y_test = y[int(total_samples*split):total_samples]"
      ],
      "execution_count": null,
      "outputs": []
    },
    {
      "cell_type": "code",
      "metadata": {
        "id": "BcCPz0TyMQtY",
        "colab_type": "code",
        "colab": {}
      },
      "source": [
        "def mean_absolute_percentage_error(y_true, y_pred): \n",
        "    '''\n",
        "    Calculates mean absolute error of the true and predicted values.\n",
        "    '''\n",
        "    y_true, y_pred = np.array(y_true), np.array(y_pred)\n",
        "    count = 0\n",
        "    sum = 0\n",
        "    for a, p in zip(y_true, y_pred):\n",
        "        if(a!=0):\n",
        "            sum+=(abs(a-p)/a)\n",
        "            count+=1\n",
        "    return (sum/count) * 100"
      ],
      "execution_count": null,
      "outputs": []
    },
    {
      "cell_type": "code",
      "metadata": {
        "id": "iIRQd5kYMQtb",
        "colab_type": "code",
        "colab": {}
      },
      "source": [
        "def view_metrics(y_test, predictions, algorithm, samples, total_samples):\n",
        "    '''\n",
        "    Plots the true and predicted values and prints RMS, MAE and MAPE metrics.\n",
        "    '''\n",
        "    fig = plt.figure(figsize=(18,5))\n",
        "    plt.scatter(x=[i for i in range(samples)], y=[x for x in predictions[0:samples]], label='Predicted values')\n",
        "    plt.scatter(x=[i for i in range(samples)], y=[x[0] for x in y_test.values[0:samples]], label='True values')\n",
        "    plt.title('True and Predicted values for test dataset - %s' % algorithm)\n",
        "    plt.legend()\n",
        "    plt.show()\n",
        "    \n",
        "#     fig = plt.figure(figsize=(18,5))\n",
        "#     plt.scatter(x=[i for i in range(total_samples)], y=[x for x in predictions], label='Predicted values')\n",
        "#     plt.scatter(x=[i for i in range(total_samples)], y=[x[0] for x in y_test.values], label='True values')\n",
        "#     plt.title('True and Predicted values for test dataset - %s' % algorithm)\n",
        "#     plt.legend()\n",
        "#     plt.show()\n",
        "\n",
        "    RMS =  np.sqrt(mean_squared_error(y_test, predictions, multioutput='raw_values'))\n",
        "    MAE = mean_absolute_error(y_test, predictions, multioutput='raw_values')\n",
        "    MAPE = mean_absolute_percentage_error(y_test, predictions)\n",
        "    print(\"Root Mean Squared Error:\", RMS)\n",
        "    print(\"Mean Absolute Error\", MAE) \n",
        "    print(\"Mean Absolute Percentage Error\", MAPE)\n",
        "    return RMS, MAE, MAPE"
      ],
      "execution_count": null,
      "outputs": []
    },
    {
      "cell_type": "markdown",
      "metadata": {
        "id": "6e-hSgyTMQtd",
        "colab_type": "text"
      },
      "source": [
        "### Metrics for regression models"
      ]
    },
    {
      "cell_type": "markdown",
      "metadata": {
        "id": "1i4hYlwfMQtd",
        "colab_type": "text"
      },
      "source": [
        "#### Root Mean Squared Error\n",
        "It represents the sample standard deviation of the differences between predicted values and observed values."
      ]
    },
    {
      "cell_type": "markdown",
      "metadata": {
        "id": "4ZY25ulgMQte",
        "colab_type": "text"
      },
      "source": [
        "![alt text](https://docs.google.com/uc?export=download&id=1s3hjviNPw0iHzxKwwRWjOuecKPMxzWdZ)"
      ]
    },
    {
      "cell_type": "markdown",
      "metadata": {
        "id": "VJKHTKWeMQte",
        "colab_type": "text"
      },
      "source": [
        "#### Mean Absolute Error\n",
        "MAE is the average of the absolute difference between the predicted values and observed value. The MAE is a linear score which means that all the individual differences are weighted equally in the average."
      ]
    },
    {
      "cell_type": "markdown",
      "metadata": {
        "id": "Z4U-Wy53MQte",
        "colab_type": "text"
      },
      "source": [
        "![alt text](https://docs.google.com/uc?export=download&id=1ZS3p1gNSdYrc_-2riw2OJ8o9UxUwXkX5)"
      ]
    },
    {
      "cell_type": "markdown",
      "metadata": {
        "id": "0ejkl8v2MQtf",
        "colab_type": "text"
      },
      "source": [
        "#### Mean Absolute Percent Error\n",
        "MAPE measures the size of the error in percentage terms. It is calculated as the average of the unsigned percentage error."
      ]
    },
    {
      "cell_type": "markdown",
      "metadata": {
        "id": "RZK1f6C-MQtf",
        "colab_type": "text"
      },
      "source": [
        "![alt text](https://docs.google.com/uc?export=download&id=1NrGo6q4JPDcatwdgKaqTVtqH5CavoXXL)"
      ]
    },
    {
      "cell_type": "markdown",
      "metadata": {
        "id": "houcSNiBMQtg",
        "colab_type": "text"
      },
      "source": [
        "# Machine Learning Models"
      ]
    },
    {
      "cell_type": "markdown",
      "metadata": {
        "id": "E1OKh7ovMQth",
        "colab_type": "text"
      },
      "source": [
        "### Linear Regression"
      ]
    },
    {
      "cell_type": "code",
      "metadata": {
        "id": "2mauV_DLMQth",
        "colab_type": "code",
        "colab": {
          "base_uri": "https://localhost:8080/",
          "height": 85
        },
        "outputId": "7b28a6ae-35aa-49b3-cc6f-0e7351253c44"
      },
      "source": [
        "lin_reg_model = LinearRegression() # build model\n",
        "lin_reg_model= lin_reg_model.fit(x_train, y_train) # train model\n",
        "R2 = lin_reg_model.score(x_train, y_train) # coefficient of determination\n",
        "print(lin_reg_model.coef_)"
      ],
      "execution_count": null,
      "outputs": [
        {
          "output_type": "stream",
          "text": [
            "[[ 1.18195377e-02  1.68896114e-03 -2.37924116e-02  2.64350428e-03\n",
            "   1.07705478e+00  7.67255991e-04  6.80291037e-03 -5.48823568e-02\n",
            "   2.92105052e-03 -8.20269137e-03 -3.32387467e-04  7.49232316e-03\n",
            "   1.62601333e-02  3.10332374e-02 -1.41359087e-03]]\n"
          ],
          "name": "stdout"
        }
      ]
    },
    {
      "cell_type": "code",
      "metadata": {
        "id": "wPiPiyv7MQtj",
        "colab_type": "code",
        "colab": {}
      },
      "source": [
        "lin_reg_model_predictions = lin_reg_model.predict(x_test) # make predictions"
      ],
      "execution_count": null,
      "outputs": []
    },
    {
      "cell_type": "code",
      "metadata": {
        "id": "l4uYy4GxMQtk",
        "colab_type": "code",
        "colab": {
          "base_uri": "https://localhost:8080/",
          "height": 380
        },
        "outputId": "ecac98f3-da59-455d-e0dd-73329ab4b58f"
      },
      "source": [
        "lin_reg_model_metrics = view_metrics(y_test, lin_reg_model_predictions,'Linear Regression', samples = 50, total_samples=2000)\n",
        "## If predicted value is same as true value, the points will be overlapping. Closer the points, better is the prediction."
      ],
      "execution_count": null,
      "outputs": [
        {
          "output_type": "display_data",
          "data": {
            "image/png": "[encoded data removed]",
            "text/plain": [
              "<Figure size 1296x360 with 1 Axes>"
            ]
          },
          "metadata": {
            "tags": [],
            "needs_background": "light"
          }
        },
        {
          "output_type": "stream",
          "text": [
            "Root Mean Squared Error: [0.03635414]\n",
            "Mean Absolute Error [0.03058606]\n",
            "Mean Absolute Percentage Error [18.38564129]\n"
          ],
          "name": "stdout"
        }
      ]
    },
    {
      "cell_type": "markdown",
      "metadata": {
        "id": "_RrDZB02MQtm",
        "colab_type": "text"
      },
      "source": [
        "### Random Forest Regressor Model"
      ]
    },
    {
      "cell_type": "code",
      "metadata": {
        "id": "Ia3hjH2SMQtn",
        "colab_type": "code",
        "colab": {}
      },
      "source": [
        "rand_forest_model = RandomForestRegressor(max_depth=5, random_state=0) # build model\n",
        "rand_forest_model = rand_forest_model.fit(x_train, y_train.values.ravel()) # train model\n",
        "RandomForestRegressor(bootstrap=True, criterion='mse', max_depth=5,\n",
        "           max_features='auto', max_leaf_nodes=None,\n",
        "           min_impurity_decrease=0.0, min_impurity_split=None,\n",
        "           min_samples_leaf=1, min_samples_split=2,\n",
        "           min_weight_fraction_leaf=0.0, n_estimators=10, n_jobs=1,\n",
        "           oob_score=False, random_state=0, verbose=0, warm_start=False)\n",
        "feature_importance = rand_forest_model.feature_importances_\n",
        "R2 = rand_forest_model.score(x_train, y_train) # coefficient of determination\n",
        "rand_forest_model_predictions = rand_forest_model.predict(x_test) # make predictions"
      ],
      "execution_count": null,
      "outputs": []
    },
    {
      "cell_type": "code",
      "metadata": {
        "id": "jV-OHB41MQto",
        "colab_type": "code",
        "colab": {
          "base_uri": "https://localhost:8080/",
          "height": 380
        },
        "outputId": "51e6d5be-f3cf-45c7-aedd-fd3d9a8d9fb6"
      },
      "source": [
        "rand_forest_model_metrics = view_metrics(y_test, rand_forest_model_predictions,'Random Forest Regressor', samples = 50, total_samples=2000)"
      ],
      "execution_count": null,
      "outputs": [
        {
          "output_type": "display_data",
          "data": {
            "image/png": "[encoded data removed]",
            "text/plain": [
              "<Figure size 1296x360 with 1 Axes>"
            ]
          },
          "metadata": {
            "tags": [],
            "needs_background": "light"
          }
        },
        {
          "output_type": "stream",
          "text": [
            "Root Mean Squared Error: [0.01435106]\n",
            "Mean Absolute Error [0.01130096]\n",
            "Mean Absolute Percentage Error [5.38884231]\n"
          ],
          "name": "stdout"
        }
      ]
    },
    {
      "cell_type": "markdown",
      "metadata": {
        "id": "BEH5zcAuMQtq",
        "colab_type": "text"
      },
      "source": [
        "### Neural Network Regression Model"
      ]
    },
    {
      "cell_type": "code",
      "metadata": {
        "scrolled": true,
        "id": "3D4XWaPdMQtq",
        "colab_type": "code",
        "colab": {
          "base_uri": "https://localhost:8080/",
          "height": 1000
        },
        "outputId": "1dc04e7e-14c7-4906-db8d-f8ff88b26be3"
      },
      "source": [
        "nn_model = MLPRegressor(hidden_layer_sizes=(10,4),\n",
        "                                    activation='relu', # activation function in the nodes of the neral net\n",
        "                                    solver='adam', # optimizer algorithm\n",
        "                                    learning_rate='constant',\n",
        "                                    learning_rate_init=0.001, # initial learning rate\n",
        "                                    max_iter=300, # max iterations to train for\n",
        "                                    tol = -1, # tolerance for when to stop training should be range 0.001 to 0.0000001, -1 for max_iter\n",
        "                                    shuffle=True,\n",
        "                                    verbose=True) # show details at each iteration\n",
        "nn_model = nn_model.fit(x_train, y_train.values.ravel())"
      ],
      "execution_count": null,
      "outputs": [
        {
          "output_type": "stream",
          "text": [
            "Iteration 1, loss = 0.48593957\n",
            "Iteration 2, loss = 0.15456463\n",
            "Iteration 3, loss = 0.03148729\n",
            "Iteration 4, loss = 0.01695521\n",
            "Iteration 5, loss = 0.01309911\n",
            "Iteration 6, loss = 0.01059623\n",
            "Iteration 7, loss = 0.00871059\n",
            "Iteration 8, loss = 0.00720560\n",
            "Iteration 9, loss = 0.00599467\n",
            "Iteration 10, loss = 0.00501200\n",
            "Iteration 11, loss = 0.00420532\n",
            "Iteration 12, loss = 0.00348485\n",
            "Iteration 13, loss = 0.00279033\n",
            "Iteration 14, loss = 0.00228514\n",
            "Iteration 15, loss = 0.00191525\n",
            "Iteration 16, loss = 0.00164745\n",
            "Iteration 17, loss = 0.00145009\n",
            "Iteration 18, loss = 0.00130413\n",
            "Iteration 19, loss = 0.00120139\n",
            "Iteration 20, loss = 0.00112262\n",
            "Iteration 21, loss = 0.00107050\n",
            "Iteration 22, loss = 0.00102834\n",
            "Iteration 23, loss = 0.00099642\n",
            "Iteration 24, loss = 0.00096831\n",
            "Iteration 25, loss = 0.00094729\n",
            "Iteration 26, loss = 0.00092649\n",
            "Iteration 27, loss = 0.00090193\n",
            "Iteration 28, loss = 0.00088343\n",
            "Iteration 29, loss = 0.00086459\n",
            "Iteration 30, loss = 0.00084713\n",
            "Iteration 31, loss = 0.00082928\n",
            "Iteration 32, loss = 0.00081055\n",
            "Iteration 33, loss = 0.00080028\n",
            "Iteration 34, loss = 0.00078013\n",
            "Iteration 35, loss = 0.00076660\n",
            "Iteration 36, loss = 0.00074822\n",
            "Iteration 37, loss = 0.00073531\n",
            "Iteration 38, loss = 0.00072001\n",
            "Iteration 39, loss = 0.00070824\n",
            "Iteration 40, loss = 0.00069393\n",
            "Iteration 41, loss = 0.00068056\n",
            "Iteration 42, loss = 0.00066761\n",
            "Iteration 43, loss = 0.00065600\n",
            "Iteration 44, loss = 0.00064478\n",
            "Iteration 45, loss = 0.00063169\n",
            "Iteration 46, loss = 0.00062087\n",
            "Iteration 47, loss = 0.00061211\n",
            "Iteration 48, loss = 0.00059810\n",
            "Iteration 49, loss = 0.00058708\n",
            "Iteration 50, loss = 0.00057817\n",
            "Iteration 51, loss = 0.00056897\n",
            "Iteration 52, loss = 0.00055758\n",
            "Iteration 53, loss = 0.00055012\n",
            "Iteration 54, loss = 0.00053898\n",
            "Iteration 55, loss = 0.00053198\n",
            "Iteration 56, loss = 0.00052076\n",
            "Iteration 57, loss = 0.00051312\n",
            "Iteration 58, loss = 0.00051048\n",
            "Iteration 59, loss = 0.00049655\n",
            "Iteration 60, loss = 0.00049085\n",
            "Iteration 61, loss = 0.00048090\n",
            "Iteration 62, loss = 0.00047491\n",
            "Iteration 63, loss = 0.00046690\n",
            "Iteration 64, loss = 0.00046055\n",
            "Iteration 65, loss = 0.00045170\n",
            "Iteration 66, loss = 0.00044855\n",
            "Iteration 67, loss = 0.00044004\n",
            "Iteration 68, loss = 0.00043249\n",
            "Iteration 69, loss = 0.00042273\n",
            "Iteration 70, loss = 0.00041764\n",
            "Iteration 71, loss = 0.00041042\n",
            "Iteration 72, loss = 0.00040203\n",
            "Iteration 73, loss = 0.00039709\n",
            "Iteration 74, loss = 0.00039517\n",
            "Iteration 75, loss = 0.00038552\n",
            "Iteration 76, loss = 0.00037623\n",
            "Iteration 77, loss = 0.00036795\n",
            "Iteration 78, loss = 0.00036023\n",
            "Iteration 79, loss = 0.00035335\n",
            "Iteration 80, loss = 0.00034693\n",
            "Iteration 81, loss = 0.00034113\n",
            "Iteration 82, loss = 0.00033148\n",
            "Iteration 83, loss = 0.00032583\n",
            "Iteration 84, loss = 0.00031930\n",
            "Iteration 85, loss = 0.00031266\n",
            "Iteration 86, loss = 0.00030553\n",
            "Iteration 87, loss = 0.00030013\n",
            "Iteration 88, loss = 0.00029564\n",
            "Iteration 89, loss = 0.00029174\n",
            "Iteration 90, loss = 0.00028432\n",
            "Iteration 91, loss = 0.00027802\n",
            "Iteration 92, loss = 0.00027342\n",
            "Iteration 93, loss = 0.00026673\n",
            "Iteration 94, loss = 0.00026290\n",
            "Iteration 95, loss = 0.00025614\n",
            "Iteration 96, loss = 0.00025302\n",
            "Iteration 97, loss = 0.00024422\n",
            "Iteration 98, loss = 0.00023909\n",
            "Iteration 99, loss = 0.00023230\n",
            "Iteration 100, loss = 0.00022653\n",
            "Iteration 101, loss = 0.00022274\n",
            "Iteration 102, loss = 0.00021520\n",
            "Iteration 103, loss = 0.00021027\n",
            "Iteration 104, loss = 0.00020613\n",
            "Iteration 105, loss = 0.00020220\n",
            "Iteration 106, loss = 0.00019838\n",
            "Iteration 107, loss = 0.00019403\n",
            "Iteration 108, loss = 0.00019091\n",
            "Iteration 109, loss = 0.00018785\n",
            "Iteration 110, loss = 0.00018506\n",
            "Iteration 111, loss = 0.00018401\n",
            "Iteration 112, loss = 0.00017965\n",
            "Iteration 113, loss = 0.00017911\n",
            "Iteration 114, loss = 0.00017480\n",
            "Iteration 115, loss = 0.00017484\n",
            "Iteration 116, loss = 0.00017124\n",
            "Iteration 117, loss = 0.00016862\n",
            "Iteration 118, loss = 0.00016850\n",
            "Iteration 119, loss = 0.00016653\n",
            "Iteration 120, loss = 0.00016531\n",
            "Iteration 121, loss = 0.00016434\n",
            "Iteration 122, loss = 0.00016238\n",
            "Iteration 123, loss = 0.00016081\n",
            "Iteration 124, loss = 0.00016022\n",
            "Iteration 125, loss = 0.00015869\n",
            "Iteration 126, loss = 0.00015787\n",
            "Iteration 127, loss = 0.00015705\n",
            "Iteration 128, loss = 0.00015588\n",
            "Iteration 129, loss = 0.00015517\n",
            "Iteration 130, loss = 0.00015384\n",
            "Iteration 131, loss = 0.00015533\n",
            "Iteration 132, loss = 0.00015186\n",
            "Iteration 133, loss = 0.00015386\n",
            "Iteration 134, loss = 0.00015116\n",
            "Iteration 135, loss = 0.00015098\n",
            "Iteration 136, loss = 0.00015012\n",
            "Iteration 137, loss = 0.00014959\n",
            "Iteration 138, loss = 0.00014871\n",
            "Iteration 139, loss = 0.00014841\n",
            "Iteration 140, loss = 0.00014984\n",
            "Iteration 141, loss = 0.00014697\n",
            "Iteration 142, loss = 0.00014567\n",
            "Iteration 143, loss = 0.00014683\n",
            "Iteration 144, loss = 0.00014629\n",
            "Iteration 145, loss = 0.00014395\n",
            "Iteration 146, loss = 0.00014506\n",
            "Iteration 147, loss = 0.00014550\n",
            "Iteration 148, loss = 0.00014624\n",
            "Iteration 149, loss = 0.00014343\n",
            "Iteration 150, loss = 0.00014597\n",
            "Iteration 151, loss = 0.00014566\n",
            "Iteration 152, loss = 0.00014399\n",
            "Iteration 153, loss = 0.00014360\n",
            "Iteration 154, loss = 0.00014264\n",
            "Iteration 155, loss = 0.00014244\n",
            "Iteration 156, loss = 0.00014212\n",
            "Iteration 157, loss = 0.00014123\n",
            "Iteration 158, loss = 0.00014101\n",
            "Iteration 159, loss = 0.00014186\n",
            "Iteration 160, loss = 0.00014413\n",
            "Iteration 161, loss = 0.00013999\n",
            "Iteration 162, loss = 0.00014367\n",
            "Iteration 163, loss = 0.00014218\n",
            "Iteration 164, loss = 0.00014105\n",
            "Iteration 165, loss = 0.00014039\n",
            "Iteration 166, loss = 0.00014013\n",
            "Iteration 167, loss = 0.00014015\n",
            "Iteration 168, loss = 0.00014051\n",
            "Iteration 169, loss = 0.00013940\n",
            "Iteration 170, loss = 0.00014068\n",
            "Iteration 171, loss = 0.00014054\n",
            "Iteration 172, loss = 0.00014021\n",
            "Iteration 173, loss = 0.00013891\n",
            "Iteration 174, loss = 0.00014046\n",
            "Iteration 175, loss = 0.00014219\n",
            "Iteration 176, loss = 0.00014005\n",
            "Iteration 177, loss = 0.00013929\n",
            "Iteration 178, loss = 0.00013869\n",
            "Iteration 179, loss = 0.00013947\n",
            "Iteration 180, loss = 0.00014141\n",
            "Iteration 181, loss = 0.00014056\n",
            "Iteration 182, loss = 0.00014243\n",
            "Iteration 183, loss = 0.00014300\n",
            "Iteration 184, loss = 0.00013843\n",
            "Iteration 185, loss = 0.00013805\n",
            "Iteration 186, loss = 0.00013906\n",
            "Iteration 187, loss = 0.00013903\n",
            "Iteration 188, loss = 0.00013956\n",
            "Iteration 189, loss = 0.00013850\n",
            "Iteration 190, loss = 0.00013936\n",
            "Iteration 191, loss = 0.00014206\n",
            "Iteration 192, loss = 0.00014274\n",
            "Iteration 193, loss = 0.00013845\n",
            "Iteration 194, loss = 0.00013867\n",
            "Iteration 195, loss = 0.00014130\n",
            "Iteration 196, loss = 0.00014205\n",
            "Iteration 197, loss = 0.00013993\n",
            "Iteration 198, loss = 0.00013793\n",
            "Iteration 199, loss = 0.00013806\n",
            "Iteration 200, loss = 0.00013895\n",
            "Iteration 201, loss = 0.00013683\n",
            "Iteration 202, loss = 0.00014040\n",
            "Iteration 203, loss = 0.00013865\n",
            "Iteration 204, loss = 0.00013807\n",
            "Iteration 205, loss = 0.00013870\n",
            "Iteration 206, loss = 0.00013994\n",
            "Iteration 207, loss = 0.00013847\n",
            "Iteration 208, loss = 0.00013807\n",
            "Iteration 209, loss = 0.00013750\n",
            "Iteration 210, loss = 0.00014123\n",
            "Iteration 211, loss = 0.00013652\n",
            "Iteration 212, loss = 0.00013745\n",
            "Iteration 213, loss = 0.00013776\n",
            "Iteration 214, loss = 0.00013662\n",
            "Iteration 215, loss = 0.00013810\n",
            "Iteration 216, loss = 0.00014113\n",
            "Iteration 217, loss = 0.00013829\n",
            "Iteration 218, loss = 0.00014110\n",
            "Iteration 219, loss = 0.00013695\n",
            "Iteration 220, loss = 0.00013670\n",
            "Iteration 221, loss = 0.00013852\n",
            "Iteration 222, loss = 0.00013622\n",
            "Iteration 223, loss = 0.00013725\n",
            "Iteration 224, loss = 0.00013936\n",
            "Iteration 225, loss = 0.00013773\n",
            "Iteration 226, loss = 0.00013857\n",
            "Iteration 227, loss = 0.00014564\n",
            "Iteration 228, loss = 0.00013656\n",
            "Iteration 229, loss = 0.00013798\n",
            "Iteration 230, loss = 0.00013719\n",
            "Iteration 231, loss = 0.00013799\n",
            "Iteration 232, loss = 0.00013620\n",
            "Iteration 233, loss = 0.00013624\n",
            "Iteration 234, loss = 0.00013700\n",
            "Iteration 235, loss = 0.00013542\n",
            "Iteration 236, loss = 0.00013946\n",
            "Iteration 237, loss = 0.00013865\n",
            "Iteration 238, loss = 0.00013656\n",
            "Iteration 239, loss = 0.00014231\n",
            "Iteration 240, loss = 0.00013833\n",
            "Iteration 241, loss = 0.00014139\n",
            "Iteration 242, loss = 0.00013481\n",
            "Iteration 243, loss = 0.00013794\n",
            "Iteration 244, loss = 0.00013679\n",
            "Iteration 245, loss = 0.00013424\n",
            "Iteration 246, loss = 0.00013448\n",
            "Iteration 247, loss = 0.00013606\n",
            "Iteration 248, loss = 0.00013811\n",
            "Iteration 249, loss = 0.00013709\n",
            "Iteration 250, loss = 0.00013661\n",
            "Iteration 251, loss = 0.00013491\n",
            "Iteration 252, loss = 0.00013536\n",
            "Iteration 253, loss = 0.00013430\n",
            "Iteration 254, loss = 0.00013558\n",
            "Iteration 255, loss = 0.00013724\n",
            "Iteration 256, loss = 0.00013824\n",
            "Iteration 257, loss = 0.00013582\n",
            "Iteration 258, loss = 0.00014237\n",
            "Iteration 259, loss = 0.00013597\n",
            "Iteration 260, loss = 0.00013453\n",
            "Iteration 261, loss = 0.00013663\n",
            "Iteration 262, loss = 0.00013358\n",
            "Iteration 263, loss = 0.00013581\n",
            "Iteration 264, loss = 0.00013514\n",
            "Iteration 265, loss = 0.00013458\n",
            "Iteration 266, loss = 0.00014142\n",
            "Iteration 267, loss = 0.00013346\n",
            "Iteration 268, loss = 0.00013625\n",
            "Iteration 269, loss = 0.00013751\n",
            "Iteration 270, loss = 0.00013658\n",
            "Iteration 271, loss = 0.00013453\n",
            "Iteration 272, loss = 0.00013284\n",
            "Iteration 273, loss = 0.00013352\n",
            "Iteration 274, loss = 0.00013473\n",
            "Iteration 275, loss = 0.00013357\n",
            "Iteration 276, loss = 0.00013441\n",
            "Iteration 277, loss = 0.00013751\n",
            "Iteration 278, loss = 0.00013427\n",
            "Iteration 279, loss = 0.00013521\n",
            "Iteration 280, loss = 0.00013475\n",
            "Iteration 281, loss = 0.00013622\n",
            "Iteration 282, loss = 0.00013364\n",
            "Iteration 283, loss = 0.00013355\n",
            "Iteration 284, loss = 0.00013511\n",
            "Iteration 285, loss = 0.00013654\n",
            "Iteration 286, loss = 0.00013672\n",
            "Iteration 287, loss = 0.00013255\n",
            "Iteration 288, loss = 0.00013466\n",
            "Iteration 289, loss = 0.00013235\n",
            "Iteration 290, loss = 0.00013436\n",
            "Iteration 291, loss = 0.00013357\n",
            "Iteration 292, loss = 0.00013316\n",
            "Iteration 293, loss = 0.00013950\n",
            "Iteration 294, loss = 0.00013339\n",
            "Iteration 295, loss = 0.00013286\n",
            "Iteration 296, loss = 0.00013594\n",
            "Iteration 297, loss = 0.00013562\n",
            "Iteration 298, loss = 0.00013271\n",
            "Iteration 299, loss = 0.00013398\n",
            "Iteration 300, loss = 0.00013184\n"
          ],
          "name": "stdout"
        }
      ]
    },
    {
      "cell_type": "code",
      "metadata": {
        "id": "KI0HkCvTMQts",
        "colab_type": "code",
        "colab": {}
      },
      "source": [
        "nn_model_predictions = nn_model.predict(x_test)"
      ],
      "execution_count": null,
      "outputs": []
    },
    {
      "cell_type": "code",
      "metadata": {
        "id": "4c0edig5MQtu",
        "colab_type": "code",
        "colab": {
          "base_uri": "https://localhost:8080/",
          "height": 380
        },
        "outputId": "2263e02e-3993-4de2-d7f5-a78d36140553"
      },
      "source": [
        "nn_model_metrics = view_metrics(y_test, nn_model_predictions,'Neural Network Regression Model', samples = 50, total_samples=2000)"
      ],
      "execution_count": null,
      "outputs": [
        {
          "output_type": "display_data",
          "data": {
            "image/png": "[encoded data removed]",
            "text/plain": [
              "<Figure size 1296x360 with 1 Axes>"
            ]
          },
          "metadata": {
            "tags": [],
            "needs_background": "light"
          }
        },
        {
          "output_type": "stream",
          "text": [
            "Root Mean Squared Error: [0.01568036]\n",
            "Mean Absolute Error [0.01178104]\n",
            "Mean Absolute Percentage Error [5.74633837]\n"
          ],
          "name": "stdout"
        }
      ]
    },
    {
      "cell_type": "markdown",
      "metadata": {
        "id": "HK5OhkfGMQtx",
        "colab_type": "text"
      },
      "source": [
        "## Comparing model performances"
      ]
    },
    {
      "cell_type": "code",
      "metadata": {
        "id": "8UG5RM0VMQtx",
        "colab_type": "code",
        "colab": {
          "base_uri": "https://localhost:8080/",
          "height": 136
        },
        "outputId": "ef1a9801-097a-42f9-f133-2b460ad492a6"
      },
      "source": [
        "print(\"%10s | %7s | %7s | %7s\" % ('MODEL', 'RMSE', 'MAE', 'MAPE'))\n",
        "print('___________________________________________')\n",
        "for name,metrics in zip(['LIN_REG','RAND_FRST','NN'],[lin_reg_model_metrics, rand_forest_model_metrics, nn_model_metrics]):\n",
        "    print (\"%10s | %.5f | %.5f | %.5f %%\" % (name, metrics[0][0], metrics[1][0], metrics[2][0]))\n",
        "print()\n",
        "print('Note: Lower values are better')"
      ],
      "execution_count": null,
      "outputs": [
        {
          "output_type": "stream",
          "text": [
            "     MODEL |    RMSE |     MAE |    MAPE\n",
            "___________________________________________\n",
            "   LIN_REG | 0.03635 | 0.03059 | 18.38564 %\n",
            " RAND_FRST | 0.01435 | 0.01130 | 5.38884 %\n",
            "        NN | 0.01568 | 0.01178 | 5.74634 %\n",
            "\n",
            "Note: Lower values are better\n"
          ],
          "name": "stdout"
        }
      ]
    },
    {
      "cell_type": "markdown",
      "metadata": {
        "id": "i23KGRI6MQtz",
        "colab_type": "text"
      },
      "source": [
        "## Predicting interest rates"
      ]
    },
    {
      "cell_type": "code",
      "metadata": {
        "id": "c-pnt0hwMQtz",
        "colab_type": "code",
        "colab": {}
      },
      "source": [
        "def get_interest_rate(model, features):\n",
        "    return (model.predict(features))*(max_rate-min_rate) + min_rate"
      ],
      "execution_count": null,
      "outputs": []
    },
    {
      "cell_type": "code",
      "metadata": {
        "id": "UrZsDUQfMQt1",
        "colab_type": "code",
        "colab": {
          "base_uri": "https://localhost:8080/",
          "height": 134
        },
        "outputId": "de6e6474-2cbe-40ff-86ff-128deefa8d6f"
      },
      "source": [
        "sample = x_test[2:3] # substitute with the input you want to predict the rate for\n",
        "interest_rate = get_interest_rate(rand_forest_model, sample)\n",
        "print('Predicted interest rate is:', interest_rate)\n",
        "print('for the following user profile:')\n",
        "sample"
      ],
      "execution_count": null,
      "outputs": [
        {
          "output_type": "stream",
          "text": [
            "Predicted interest rate is: [11.44435391]\n",
            "for the following user profile:\n"
          ],
          "name": "stdout"
        },
        {
          "output_type": "execute_result",
          "data": {
            "text/html": [
              "<div>\n",
              "<style scoped>\n",
              "    .dataframe tbody tr th:only-of-type {\n",
              "        vertical-align: middle;\n",
              "    }\n",
              "\n",
              "    .dataframe tbody tr th {\n",
              "        vertical-align: top;\n",
              "    }\n",
              "\n",
              "    .dataframe thead th {\n",
              "        text-align: right;\n",
              "    }\n",
              "</style>\n",
              "<table border=\"1\" class=\"dataframe\">\n",
              "  <thead>\n",
              "    <tr style=\"text-align: right;\">\n",
              "      <th></th>\n",
              "      <th>loan_amnt</th>\n",
              "      <th>term</th>\n",
              "      <th>installment</th>\n",
              "      <th>grade</th>\n",
              "      <th>sub_grade</th>\n",
              "      <th>emp_length</th>\n",
              "      <th>home_ownership</th>\n",
              "      <th>annual_inc</th>\n",
              "      <th>verification_status</th>\n",
              "      <th>purpose</th>\n",
              "      <th>addr_state</th>\n",
              "      <th>dti</th>\n",
              "      <th>delinq_2yrs</th>\n",
              "      <th>inq_last_6mths</th>\n",
              "      <th>loan_status_Binary</th>\n",
              "    </tr>\n",
              "  </thead>\n",
              "  <tbody>\n",
              "    <tr>\n",
              "      <th>2048</th>\n",
              "      <td>0.117647</td>\n",
              "      <td>1.0</td>\n",
              "      <td>0.069723</td>\n",
              "      <td>0.166667</td>\n",
              "      <td>0.205882</td>\n",
              "      <td>0.545455</td>\n",
              "      <td>0.0</td>\n",
              "      <td>0.043919</td>\n",
              "      <td>0.0</td>\n",
              "      <td>0.666667</td>\n",
              "      <td>0.204545</td>\n",
              "      <td>0.261029</td>\n",
              "      <td>0.0</td>\n",
              "      <td>0.0</td>\n",
              "      <td>0.0</td>\n",
              "    </tr>\n",
              "  </tbody>\n",
              "</table>\n",
              "</div>"
            ],
            "text/plain": [
              "      loan_amnt  term  ...  inq_last_6mths  loan_status_Binary\n",
              "2048   0.117647   1.0  ...             0.0                 0.0\n",
              "\n",
              "[1 rows x 15 columns]"
            ]
          },
          "metadata": {
            "tags": []
          },
          "execution_count": 24
        }
      ]
    },
    {
      "cell_type": "markdown",
      "metadata": {
        "id": "IvQu0cR1MQt3",
        "colab_type": "text"
      },
      "source": [
        "### Saving the models"
      ]
    },
    {
      "cell_type": "code",
      "metadata": {
        "id": "HrFbmm2LMQt4",
        "colab_type": "code",
        "colab": {}
      },
      "source": [
        "# this cell may take a few seconds to execute depending on model size\n",
        "\n",
        "# for saving models\n",
        "import pickle\n",
        "# import _pickle as cPickle # try this if previous import fails\n",
        "\n",
        "model_name = 'best_model.model'\n",
        "pickle.dump(rand_forest_model, open(model_name, 'wb'))"
      ],
      "execution_count": null,
      "outputs": []
    },
    {
      "cell_type": "code",
      "metadata": {
        "id": "irenpk5Feb37",
        "colab_type": "code",
        "colab": {}
      },
      "source": [
        ""
      ],
      "execution_count": null,
      "outputs": []
    }
  ]
}